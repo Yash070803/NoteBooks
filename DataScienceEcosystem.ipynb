{
  "cells": [
    {
      "cell_type": "markdown",
      "metadata": {
        "id": "xQvoeSoml73z"
      },
      "source": [
        "<h1>Data Science Tools and Ecosystem</h1>"
      ]
    },
    {
      "cell_type": "markdown",
      "metadata": {
        "id": "nP9wktNjl730"
      },
      "source": [
        "In this notebook, Data Science Tools and Ecosystem are summarized."
      ]
    },
    {
      "cell_type": "markdown",
      "metadata": {
        "id": "wxoi9y-Kl730"
      },
      "source": [
        "__Objectives:__\n",
        "- List popular languages for Data Science\n",
        "- List libraries used by Data Scientists\n",
        "- Create a Jupyter Notebook"
      ]
    },
    {
      "cell_type": "markdown",
      "metadata": {
        "id": "6O2RauRSl731"
      },
      "source": [
        "## Author\n",
        "Yaswanth"
      ]
    },
    {
      "cell_type": "markdown",
      "metadata": {
        "id": "GuiIo0mdl731"
      },
      "source": [
        "Some of the popular languages that Data Scientists use are:\n",
        "1. Python\n",
        "2. R\n",
        "3. Julia\n",
        "4. SQL\n",
        "5. C++"
      ]
    },
    {
      "cell_type": "markdown",
      "metadata": {
        "id": "6A6jdrpwl731"
      },
      "source": [
        "Some of the commonly used libraries used by Data Scientists include:\n",
        "1. Pandas\n",
        "2. Numpy\n",
        "3. Matplotlib\n",
        "4. Seaborn"
      ]
    },
    {
      "cell_type": "markdown",
      "metadata": {
        "id": "D4sbXOiPl731"
      },
      "source": [
        "| Data Science Tools |\n",
        "|--------------------|\n",
        "| IBM Watson Studio  |\n",
        "| IBM Open Scale     |\n",
        "| Jupyter Notebook   |"
      ]
    },
    {
      "cell_type": "markdown",
      "metadata": {
        "id": "a05exUnql731"
      },
      "source": [
        "### Below are a few examples of evaluating arithmetic expressions in Python\n",
        "2+3=5,\n",
        "2/2=1"
      ]
    },
    {
      "cell_type": "code",
      "execution_count": null,
      "metadata": {
        "trusted": true,
        "id": "mgTgSonOl731",
        "outputId": "e6b3d0fe-efb0-4713-b5a4-9cb5a1a6574d"
      },
      "outputs": [
        {
          "name": "stdout",
          "output_type": "stream",
          "text": [
            "17\n"
          ]
        }
      ],
      "source": [
        "#This a simple arithmetic expression to mutiply then add integers\n",
        "print((3*4)+5)"
      ]
    },
    {
      "cell_type": "code",
      "execution_count": null,
      "metadata": {
        "trusted": true,
        "id": "XJq-V_eWl732",
        "outputId": "722eba4d-bfd1-48e1-90a5-1336856af3dc"
      },
      "outputs": [
        {
          "name": "stdout",
          "output_type": "stream",
          "text": [
            "17\n"
          ]
        }
      ],
      "source": [
        "print((3*4)+5)"
      ]
    },
    {
      "cell_type": "code",
      "execution_count": null,
      "metadata": {
        "trusted": true,
        "id": "WM1koFOtl733",
        "outputId": "8a887354-2d2b-46b2-e88c-86ebc0649662"
      },
      "outputs": [
        {
          "name": "stdout",
          "output_type": "stream",
          "text": [
            "3\n"
          ]
        }
      ],
      "source": [
        "#This will convert 200 minutes to hours by diving by 60\n",
        "print(int(200/60))"
      ]
    }
  ],
  "metadata": {
    "kernelspec": {
      "display_name": "Python (Pyodide)",
      "language": "python",
      "name": "python"
    },
    "language_info": {
      "codemirror_mode": {
        "name": "python",
        "version": 3
      },
      "file_extension": ".py",
      "mimetype": "text/x-python",
      "name": "python",
      "nbconvert_exporter": "python",
      "pygments_lexer": "ipython3",
      "version": "3.8"
    },
    "colab": {
      "provenance": []
    }
  },
  "nbformat": 4,
  "nbformat_minor": 0
}