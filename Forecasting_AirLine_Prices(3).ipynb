{
  "nbformat": 4,
  "nbformat_minor": 0,
  "metadata": {
    "colab": {
      "provenance": [],
      "include_colab_link": true
    },
    "kernelspec": {
      "name": "python3",
      "display_name": "Python 3"
    },
    "language_info": {
      "name": "python"
    }
  },
  "cells": [
    {
      "cell_type": "markdown",
      "metadata": {
        "id": "view-in-github",
        "colab_type": "text"
      },
      "source": [
        "<a href=\"https://colab.research.google.com/github/Yash070803/NoteBooks/blob/main/Forecasting_AirLine_Prices(3).ipynb\" target=\"_parent\"><img src=\"https://colab.research.google.com/assets/colab-badge.svg\" alt=\"Open In Colab\"/></a>"
      ]
    },
    {
      "cell_type": "code",
      "source": [
        "import pandas as pd\n",
        "import numpy as np\n",
        "import seaborn as sns\n",
        "from sklearn.preprocessing import StandardScaler\n",
        "from sklearn.preprocessing import LabelEncoder\n",
        "from xgboost import XGBRegressor\n",
        "from sklearn.model_selection import train_test_split, RandomizedSearchCV\n",
        "from sklearn.metrics import mean_absolute_error, mean_squared_error, make_scorer\n",
        "from sklearn.feature_selection import SelectKBest, f_regression"
      ],
      "metadata": {
        "id": "DPcPob8OtLr_"
      },
      "execution_count": 1,
      "outputs": []
    },
    {
      "cell_type": "code",
      "source": [
        "data = pd.read_csv('train.csv')"
      ],
      "metadata": {
        "id": "jz5vEk-ED7ie"
      },
      "execution_count": 2,
      "outputs": []
    },
    {
      "cell_type": "code",
      "source": [
        "print(data.shape) #(45000, 19)"
      ],
      "metadata": {
        "colab": {
          "base_uri": "https://localhost:8080/"
        },
        "id": "UCYvTSCUQBt4",
        "outputId": "12bd5990-3bca-4bb1-ff75-0a300de41e28"
      },
      "execution_count": 3,
      "outputs": [
        {
          "output_type": "stream",
          "name": "stdout",
          "text": [
            "(45000, 19)\n"
          ]
        }
      ]
    },
    {
      "cell_type": "code",
      "source": [
        "print(data.isnull().sum())"
      ],
      "metadata": {
        "colab": {
          "base_uri": "https://localhost:8080/"
        },
        "id": "jC30dwY6QGHV",
        "outputId": "3b7f87a9-a0cf-4b97-c458-cecf126a5466"
      },
      "execution_count": 4,
      "outputs": [
        {
          "output_type": "stream",
          "name": "stdout",
          "text": [
            "Flight_ID                0\n",
            "Airline               3573\n",
            "Departure_City         340\n",
            "Arrival_City           186\n",
            "Distance                91\n",
            "Departure_Time           0\n",
            "Arrival_Time             0\n",
            "Duration                 0\n",
            "Aircraft_Type           43\n",
            "Number_of_Stops          0\n",
            "Day_of_Week            225\n",
            "Month_of_Travel        267\n",
            "Holiday_Season           0\n",
            "Demand                 317\n",
            "Weather_Conditions     302\n",
            "Passenger_Count          0\n",
            "Promotion_Type         403\n",
            "Fuel_Price              90\n",
            "Flight_Price             0\n",
            "dtype: int64\n"
          ]
        }
      ]
    },
    {
      "cell_type": "code",
      "source": [
        "print(data.info())"
      ],
      "metadata": {
        "colab": {
          "base_uri": "https://localhost:8080/"
        },
        "id": "LFf8o7V4QHMp",
        "outputId": "dc79201f-48f6-4d60-9203-b187c0c75204"
      },
      "execution_count": 5,
      "outputs": [
        {
          "output_type": "stream",
          "name": "stdout",
          "text": [
            "<class 'pandas.core.frame.DataFrame'>\n",
            "RangeIndex: 45000 entries, 0 to 44999\n",
            "Data columns (total 19 columns):\n",
            " #   Column              Non-Null Count  Dtype  \n",
            "---  ------              --------------  -----  \n",
            " 0   Flight_ID           45000 non-null  object \n",
            " 1   Airline             41427 non-null  object \n",
            " 2   Departure_City      44660 non-null  object \n",
            " 3   Arrival_City        44814 non-null  object \n",
            " 4   Distance            44909 non-null  float64\n",
            " 5   Departure_Time      45000 non-null  object \n",
            " 6   Arrival_Time        45000 non-null  object \n",
            " 7   Duration            45000 non-null  float64\n",
            " 8   Aircraft_Type       44957 non-null  object \n",
            " 9   Number_of_Stops     45000 non-null  int64  \n",
            " 10  Day_of_Week         44775 non-null  object \n",
            " 11  Month_of_Travel     44733 non-null  object \n",
            " 12  Holiday_Season      45000 non-null  object \n",
            " 13  Demand              44683 non-null  object \n",
            " 14  Weather_Conditions  44698 non-null  object \n",
            " 15  Passenger_Count     45000 non-null  int64  \n",
            " 16  Promotion_Type      44597 non-null  object \n",
            " 17  Fuel_Price          44910 non-null  float64\n",
            " 18  Flight_Price        45000 non-null  float64\n",
            "dtypes: float64(4), int64(2), object(13)\n",
            "memory usage: 6.5+ MB\n",
            "None\n"
          ]
        }
      ]
    },
    {
      "cell_type": "code",
      "source": [
        "print(data.describe())"
      ],
      "metadata": {
        "colab": {
          "base_uri": "https://localhost:8080/"
        },
        "id": "PsyCVLAkQH47",
        "outputId": "1fab0cea-a106-4d04-a96d-facb069c2756"
      },
      "execution_count": null,
      "outputs": [
        {
          "output_type": "stream",
          "name": "stdout",
          "text": [
            "           Distance      Duration  Number_of_Stops  Passenger_Count  \\\n",
            "count  44909.000000  45000.000000     45000.000000     45000.000000   \n",
            "mean    5482.238727      7.852555         0.665667       174.928822   \n",
            "std     2594.847860      3.292880         0.750578        72.372980   \n",
            "min     1000.000000      1.280000         0.000000        50.000000   \n",
            "25%     3230.000000      5.040000         0.000000       112.000000   \n",
            "50%     5476.000000      7.840000         1.000000       175.000000   \n",
            "75%     7725.000000     10.650000         1.000000       238.000000   \n",
            "max    10000.000000     14.450000         3.000000       300.000000   \n",
            "\n",
            "         Fuel_Price  Flight_Price  \n",
            "count  44910.000000  45000.000000  \n",
            "mean       0.850192    574.606270  \n",
            "std        0.201736    160.239344  \n",
            "min        0.500000    173.350000  \n",
            "25%        0.680000    455.297500  \n",
            "50%        0.850000    565.750000  \n",
            "75%        1.020000    679.692500  \n",
            "max        1.200000   1261.640000  \n"
          ]
        }
      ]
    },
    {
      "cell_type": "code",
      "source": [
        "# Handle missing values\n",
        "categorical_columns = ['Airline', 'Departure_City', 'Arrival_City', 'Demand', 'Aircraft_Type', 'Day_of_Week', 'Month_of_Travel','Holiday_Season','Weather_Conditions']\n",
        "for column in categorical_columns:\n",
        "    data[column].fillna('Missing', inplace=True)"
      ],
      "metadata": {
        "id": "rfHgeK-gD-yO"
      },
      "execution_count": null,
      "outputs": []
    },
    {
      "cell_type": "code",
      "source": [
        "numerical_columns = ['Distance', 'Fuel_Price']\n",
        "for column in numerical_columns:\n",
        "    data[column].fillna(data[column].median(), inplace=True)"
      ],
      "metadata": {
        "id": "XNJV7tAwGw0o"
      },
      "execution_count": null,
      "outputs": []
    },
    {
      "cell_type": "code",
      "source": [
        "data['Promotion_Type_Missing'] = data['Promotion_Type'].isnull().astype(int)"
      ],
      "metadata": {
        "id": "maL5R44qG2ov"
      },
      "execution_count": null,
      "outputs": []
    },
    {
      "cell_type": "code",
      "source": [
        "data['Fuel_Price'].fillna(data['Fuel_Price'].median(), inplace=True)"
      ],
      "metadata": {
        "id": "c_3KLowvG6gD"
      },
      "execution_count": null,
      "outputs": []
    },
    {
      "cell_type": "code",
      "source": [
        "data.isnull().sum()"
      ],
      "metadata": {
        "colab": {
          "base_uri": "https://localhost:8080/"
        },
        "id": "GzkNifSxG8Lr",
        "outputId": "f95f6286-5cc1-4916-9ea2-56891eb6be1a"
      },
      "execution_count": null,
      "outputs": [
        {
          "output_type": "execute_result",
          "data": {
            "text/plain": [
              "Flight_ID                   0\n",
              "Airline                     0\n",
              "Departure_City              0\n",
              "Arrival_City                0\n",
              "Distance                    0\n",
              "Departure_Time              0\n",
              "Arrival_Time                0\n",
              "Duration                    0\n",
              "Aircraft_Type               0\n",
              "Number_of_Stops             0\n",
              "Day_of_Week                 0\n",
              "Month_of_Travel             0\n",
              "Holiday_Season              0\n",
              "Demand                      0\n",
              "Weather_Conditions          0\n",
              "Passenger_Count             0\n",
              "Promotion_Type            403\n",
              "Fuel_Price                  0\n",
              "Flight_Price                0\n",
              "Promotion_Type_Missing      0\n",
              "dtype: int64"
            ]
          },
          "metadata": {},
          "execution_count": 22
        }
      ]
    },
    {
      "cell_type": "code",
      "source": [
        "# Combine 'Departure_City' and 'Arrival_City' to create a set of unique cities\n",
        "unique_cities = set(data['Departure_City'].unique()) | set(data['Arrival_City'].unique())\n",
        "\n",
        "# Create a mapping dictionary where each unique city is assigned a unique integer label\n",
        "city_mapping = {city: label for label, city in enumerate(unique_cities)}\n",
        "\n",
        "# Apply the mapping to both 'Departure_City' and 'Arrival_City'\n",
        "data['Departure_City'] = data['Departure_City'].map(city_mapping)\n",
        "data['Arrival_City'] = data['Arrival_City'].map(city_mapping)\n",
        "\n",
        "data['Flight_ID'] = data['Flight_ID'].str.extract('(\\d+)').astype(int)\n",
        "\n",
        "data.head()"
      ],
      "metadata": {
        "colab": {
          "base_uri": "https://localhost:8080/",
          "height": 226
        },
        "id": "bBOCoqLlHN02",
        "outputId": "ee2e1202-2fd8-4dcb-ba83-f88633ae4c25"
      },
      "execution_count": null,
      "outputs": [
        {
          "output_type": "execute_result",
          "data": {
            "text/plain": [
              "   Flight_ID    Airline  Departure_City  Arrival_City  Distance  \\\n",
              "0          1  Airline B           13835         12187    8286.0   \n",
              "1          2  Airline C           31122          5378    2942.0   \n",
              "2          3  Airline B           17248          1655    2468.0   \n",
              "3          4    Missing           13924         34164    3145.0   \n",
              "4          5  Airline B           13140          6997    5558.0   \n",
              "\n",
              "  Departure_Time Arrival_Time  Duration Aircraft_Type  Number_of_Stops  \\\n",
              "0           8:23        20:19     11.94    Boeing 787                0   \n",
              "1          20:28         1:45      5.29   Airbus A320                0   \n",
              "2          11:30        15:54      4.41    Boeing 787                1   \n",
              "3          20:24         1:21      4.96    Boeing 787                0   \n",
              "4          21:59         6:04      8.09    Boeing 737                1   \n",
              "\n",
              "  Day_of_Week Month_of_Travel Holiday_Season   Demand Weather_Conditions  \\\n",
              "0   Wednesday        December         Summer      Low               Rain   \n",
              "1   Wednesday           March         Spring      Low               Rain   \n",
              "2      Sunday       September         Summer     High             Cloudy   \n",
              "3      Sunday        February           Fall      Low             Cloudy   \n",
              "4    Thursday         January           None  Missing              Clear   \n",
              "\n",
              "   Passenger_Count Promotion_Type  Fuel_Price  Flight_Price  \\\n",
              "0              240  Special Offer        0.91        643.93   \n",
              "1              107           None        1.08        423.13   \n",
              "2              131            NaN        0.52        442.17   \n",
              "3              170       Discount        0.71        394.42   \n",
              "4              181           None        1.09        804.35   \n",
              "\n",
              "   Promotion_Type_Missing  \n",
              "0                       0  \n",
              "1                       0  \n",
              "2                       1  \n",
              "3                       0  \n",
              "4                       0  "
            ],
            "text/html": [
              "\n",
              "  <div id=\"df-7bc60b60-7981-4f0a-ae84-a31084df7b64\" class=\"colab-df-container\">\n",
              "    <div>\n",
              "<style scoped>\n",
              "    .dataframe tbody tr th:only-of-type {\n",
              "        vertical-align: middle;\n",
              "    }\n",
              "\n",
              "    .dataframe tbody tr th {\n",
              "        vertical-align: top;\n",
              "    }\n",
              "\n",
              "    .dataframe thead th {\n",
              "        text-align: right;\n",
              "    }\n",
              "</style>\n",
              "<table border=\"1\" class=\"dataframe\">\n",
              "  <thead>\n",
              "    <tr style=\"text-align: right;\">\n",
              "      <th></th>\n",
              "      <th>Flight_ID</th>\n",
              "      <th>Airline</th>\n",
              "      <th>Departure_City</th>\n",
              "      <th>Arrival_City</th>\n",
              "      <th>Distance</th>\n",
              "      <th>Departure_Time</th>\n",
              "      <th>Arrival_Time</th>\n",
              "      <th>Duration</th>\n",
              "      <th>Aircraft_Type</th>\n",
              "      <th>Number_of_Stops</th>\n",
              "      <th>Day_of_Week</th>\n",
              "      <th>Month_of_Travel</th>\n",
              "      <th>Holiday_Season</th>\n",
              "      <th>Demand</th>\n",
              "      <th>Weather_Conditions</th>\n",
              "      <th>Passenger_Count</th>\n",
              "      <th>Promotion_Type</th>\n",
              "      <th>Fuel_Price</th>\n",
              "      <th>Flight_Price</th>\n",
              "      <th>Promotion_Type_Missing</th>\n",
              "    </tr>\n",
              "  </thead>\n",
              "  <tbody>\n",
              "    <tr>\n",
              "      <th>0</th>\n",
              "      <td>1</td>\n",
              "      <td>Airline B</td>\n",
              "      <td>13835</td>\n",
              "      <td>12187</td>\n",
              "      <td>8286.0</td>\n",
              "      <td>8:23</td>\n",
              "      <td>20:19</td>\n",
              "      <td>11.94</td>\n",
              "      <td>Boeing 787</td>\n",
              "      <td>0</td>\n",
              "      <td>Wednesday</td>\n",
              "      <td>December</td>\n",
              "      <td>Summer</td>\n",
              "      <td>Low</td>\n",
              "      <td>Rain</td>\n",
              "      <td>240</td>\n",
              "      <td>Special Offer</td>\n",
              "      <td>0.91</td>\n",
              "      <td>643.93</td>\n",
              "      <td>0</td>\n",
              "    </tr>\n",
              "    <tr>\n",
              "      <th>1</th>\n",
              "      <td>2</td>\n",
              "      <td>Airline C</td>\n",
              "      <td>31122</td>\n",
              "      <td>5378</td>\n",
              "      <td>2942.0</td>\n",
              "      <td>20:28</td>\n",
              "      <td>1:45</td>\n",
              "      <td>5.29</td>\n",
              "      <td>Airbus A320</td>\n",
              "      <td>0</td>\n",
              "      <td>Wednesday</td>\n",
              "      <td>March</td>\n",
              "      <td>Spring</td>\n",
              "      <td>Low</td>\n",
              "      <td>Rain</td>\n",
              "      <td>107</td>\n",
              "      <td>None</td>\n",
              "      <td>1.08</td>\n",
              "      <td>423.13</td>\n",
              "      <td>0</td>\n",
              "    </tr>\n",
              "    <tr>\n",
              "      <th>2</th>\n",
              "      <td>3</td>\n",
              "      <td>Airline B</td>\n",
              "      <td>17248</td>\n",
              "      <td>1655</td>\n",
              "      <td>2468.0</td>\n",
              "      <td>11:30</td>\n",
              "      <td>15:54</td>\n",
              "      <td>4.41</td>\n",
              "      <td>Boeing 787</td>\n",
              "      <td>1</td>\n",
              "      <td>Sunday</td>\n",
              "      <td>September</td>\n",
              "      <td>Summer</td>\n",
              "      <td>High</td>\n",
              "      <td>Cloudy</td>\n",
              "      <td>131</td>\n",
              "      <td>NaN</td>\n",
              "      <td>0.52</td>\n",
              "      <td>442.17</td>\n",
              "      <td>1</td>\n",
              "    </tr>\n",
              "    <tr>\n",
              "      <th>3</th>\n",
              "      <td>4</td>\n",
              "      <td>Missing</td>\n",
              "      <td>13924</td>\n",
              "      <td>34164</td>\n",
              "      <td>3145.0</td>\n",
              "      <td>20:24</td>\n",
              "      <td>1:21</td>\n",
              "      <td>4.96</td>\n",
              "      <td>Boeing 787</td>\n",
              "      <td>0</td>\n",
              "      <td>Sunday</td>\n",
              "      <td>February</td>\n",
              "      <td>Fall</td>\n",
              "      <td>Low</td>\n",
              "      <td>Cloudy</td>\n",
              "      <td>170</td>\n",
              "      <td>Discount</td>\n",
              "      <td>0.71</td>\n",
              "      <td>394.42</td>\n",
              "      <td>0</td>\n",
              "    </tr>\n",
              "    <tr>\n",
              "      <th>4</th>\n",
              "      <td>5</td>\n",
              "      <td>Airline B</td>\n",
              "      <td>13140</td>\n",
              "      <td>6997</td>\n",
              "      <td>5558.0</td>\n",
              "      <td>21:59</td>\n",
              "      <td>6:04</td>\n",
              "      <td>8.09</td>\n",
              "      <td>Boeing 737</td>\n",
              "      <td>1</td>\n",
              "      <td>Thursday</td>\n",
              "      <td>January</td>\n",
              "      <td>None</td>\n",
              "      <td>Missing</td>\n",
              "      <td>Clear</td>\n",
              "      <td>181</td>\n",
              "      <td>None</td>\n",
              "      <td>1.09</td>\n",
              "      <td>804.35</td>\n",
              "      <td>0</td>\n",
              "    </tr>\n",
              "  </tbody>\n",
              "</table>\n",
              "</div>\n",
              "    <div class=\"colab-df-buttons\">\n",
              "\n",
              "  <div class=\"colab-df-container\">\n",
              "    <button class=\"colab-df-convert\" onclick=\"convertToInteractive('df-7bc60b60-7981-4f0a-ae84-a31084df7b64')\"\n",
              "            title=\"Convert this dataframe to an interactive table.\"\n",
              "            style=\"display:none;\">\n",
              "\n",
              "  <svg xmlns=\"http://www.w3.org/2000/svg\" height=\"24px\" viewBox=\"0 -960 960 960\">\n",
              "    <path d=\"M120-120v-720h720v720H120Zm60-500h600v-160H180v160Zm220 220h160v-160H400v160Zm0 220h160v-160H400v160ZM180-400h160v-160H180v160Zm440 0h160v-160H620v160ZM180-180h160v-160H180v160Zm440 0h160v-160H620v160Z\"/>\n",
              "  </svg>\n",
              "    </button>\n",
              "\n",
              "  <style>\n",
              "    .colab-df-container {\n",
              "      display:flex;\n",
              "      gap: 12px;\n",
              "    }\n",
              "\n",
              "    .colab-df-convert {\n",
              "      background-color: #E8F0FE;\n",
              "      border: none;\n",
              "      border-radius: 50%;\n",
              "      cursor: pointer;\n",
              "      display: none;\n",
              "      fill: #1967D2;\n",
              "      height: 32px;\n",
              "      padding: 0 0 0 0;\n",
              "      width: 32px;\n",
              "    }\n",
              "\n",
              "    .colab-df-convert:hover {\n",
              "      background-color: #E2EBFA;\n",
              "      box-shadow: 0px 1px 2px rgba(60, 64, 67, 0.3), 0px 1px 3px 1px rgba(60, 64, 67, 0.15);\n",
              "      fill: #174EA6;\n",
              "    }\n",
              "\n",
              "    .colab-df-buttons div {\n",
              "      margin-bottom: 4px;\n",
              "    }\n",
              "\n",
              "    [theme=dark] .colab-df-convert {\n",
              "      background-color: #3B4455;\n",
              "      fill: #D2E3FC;\n",
              "    }\n",
              "\n",
              "    [theme=dark] .colab-df-convert:hover {\n",
              "      background-color: #434B5C;\n",
              "      box-shadow: 0px 1px 3px 1px rgba(0, 0, 0, 0.15);\n",
              "      filter: drop-shadow(0px 1px 2px rgba(0, 0, 0, 0.3));\n",
              "      fill: #FFFFFF;\n",
              "    }\n",
              "  </style>\n",
              "\n",
              "    <script>\n",
              "      const buttonEl =\n",
              "        document.querySelector('#df-7bc60b60-7981-4f0a-ae84-a31084df7b64 button.colab-df-convert');\n",
              "      buttonEl.style.display =\n",
              "        google.colab.kernel.accessAllowed ? 'block' : 'none';\n",
              "\n",
              "      async function convertToInteractive(key) {\n",
              "        const element = document.querySelector('#df-7bc60b60-7981-4f0a-ae84-a31084df7b64');\n",
              "        const dataTable =\n",
              "          await google.colab.kernel.invokeFunction('convertToInteractive',\n",
              "                                                    [key], {});\n",
              "        if (!dataTable) return;\n",
              "\n",
              "        const docLinkHtml = 'Like what you see? Visit the ' +\n",
              "          '<a target=\"_blank\" href=https://colab.research.google.com/notebooks/data_table.ipynb>data table notebook</a>'\n",
              "          + ' to learn more about interactive tables.';\n",
              "        element.innerHTML = '';\n",
              "        dataTable['output_type'] = 'display_data';\n",
              "        await google.colab.output.renderOutput(dataTable, element);\n",
              "        const docLink = document.createElement('div');\n",
              "        docLink.innerHTML = docLinkHtml;\n",
              "        element.appendChild(docLink);\n",
              "      }\n",
              "    </script>\n",
              "  </div>\n",
              "\n",
              "\n",
              "<div id=\"df-a8175a15-c466-46b7-93f6-0cdd02185258\">\n",
              "  <button class=\"colab-df-quickchart\" onclick=\"quickchart('df-a8175a15-c466-46b7-93f6-0cdd02185258')\"\n",
              "            title=\"Suggest charts\"\n",
              "            style=\"display:none;\">\n",
              "\n",
              "<svg xmlns=\"http://www.w3.org/2000/svg\" height=\"24px\"viewBox=\"0 0 24 24\"\n",
              "     width=\"24px\">\n",
              "    <g>\n",
              "        <path d=\"M19 3H5c-1.1 0-2 .9-2 2v14c0 1.1.9 2 2 2h14c1.1 0 2-.9 2-2V5c0-1.1-.9-2-2-2zM9 17H7v-7h2v7zm4 0h-2V7h2v10zm4 0h-2v-4h2v4z\"/>\n",
              "    </g>\n",
              "</svg>\n",
              "  </button>\n",
              "\n",
              "<style>\n",
              "  .colab-df-quickchart {\n",
              "      --bg-color: #E8F0FE;\n",
              "      --fill-color: #1967D2;\n",
              "      --hover-bg-color: #E2EBFA;\n",
              "      --hover-fill-color: #174EA6;\n",
              "      --disabled-fill-color: #AAA;\n",
              "      --disabled-bg-color: #DDD;\n",
              "  }\n",
              "\n",
              "  [theme=dark] .colab-df-quickchart {\n",
              "      --bg-color: #3B4455;\n",
              "      --fill-color: #D2E3FC;\n",
              "      --hover-bg-color: #434B5C;\n",
              "      --hover-fill-color: #FFFFFF;\n",
              "      --disabled-bg-color: #3B4455;\n",
              "      --disabled-fill-color: #666;\n",
              "  }\n",
              "\n",
              "  .colab-df-quickchart {\n",
              "    background-color: var(--bg-color);\n",
              "    border: none;\n",
              "    border-radius: 50%;\n",
              "    cursor: pointer;\n",
              "    display: none;\n",
              "    fill: var(--fill-color);\n",
              "    height: 32px;\n",
              "    padding: 0;\n",
              "    width: 32px;\n",
              "  }\n",
              "\n",
              "  .colab-df-quickchart:hover {\n",
              "    background-color: var(--hover-bg-color);\n",
              "    box-shadow: 0 1px 2px rgba(60, 64, 67, 0.3), 0 1px 3px 1px rgba(60, 64, 67, 0.15);\n",
              "    fill: var(--button-hover-fill-color);\n",
              "  }\n",
              "\n",
              "  .colab-df-quickchart-complete:disabled,\n",
              "  .colab-df-quickchart-complete:disabled:hover {\n",
              "    background-color: var(--disabled-bg-color);\n",
              "    fill: var(--disabled-fill-color);\n",
              "    box-shadow: none;\n",
              "  }\n",
              "\n",
              "  .colab-df-spinner {\n",
              "    border: 2px solid var(--fill-color);\n",
              "    border-color: transparent;\n",
              "    border-bottom-color: var(--fill-color);\n",
              "    animation:\n",
              "      spin 1s steps(1) infinite;\n",
              "  }\n",
              "\n",
              "  @keyframes spin {\n",
              "    0% {\n",
              "      border-color: transparent;\n",
              "      border-bottom-color: var(--fill-color);\n",
              "      border-left-color: var(--fill-color);\n",
              "    }\n",
              "    20% {\n",
              "      border-color: transparent;\n",
              "      border-left-color: var(--fill-color);\n",
              "      border-top-color: var(--fill-color);\n",
              "    }\n",
              "    30% {\n",
              "      border-color: transparent;\n",
              "      border-left-color: var(--fill-color);\n",
              "      border-top-color: var(--fill-color);\n",
              "      border-right-color: var(--fill-color);\n",
              "    }\n",
              "    40% {\n",
              "      border-color: transparent;\n",
              "      border-right-color: var(--fill-color);\n",
              "      border-top-color: var(--fill-color);\n",
              "    }\n",
              "    60% {\n",
              "      border-color: transparent;\n",
              "      border-right-color: var(--fill-color);\n",
              "    }\n",
              "    80% {\n",
              "      border-color: transparent;\n",
              "      border-right-color: var(--fill-color);\n",
              "      border-bottom-color: var(--fill-color);\n",
              "    }\n",
              "    90% {\n",
              "      border-color: transparent;\n",
              "      border-bottom-color: var(--fill-color);\n",
              "    }\n",
              "  }\n",
              "</style>\n",
              "\n",
              "  <script>\n",
              "    async function quickchart(key) {\n",
              "      const quickchartButtonEl =\n",
              "        document.querySelector('#' + key + ' button');\n",
              "      quickchartButtonEl.disabled = true;  // To prevent multiple clicks.\n",
              "      quickchartButtonEl.classList.add('colab-df-spinner');\n",
              "      try {\n",
              "        const charts = await google.colab.kernel.invokeFunction(\n",
              "            'suggestCharts', [key], {});\n",
              "      } catch (error) {\n",
              "        console.error('Error during call to suggestCharts:', error);\n",
              "      }\n",
              "      quickchartButtonEl.classList.remove('colab-df-spinner');\n",
              "      quickchartButtonEl.classList.add('colab-df-quickchart-complete');\n",
              "    }\n",
              "    (() => {\n",
              "      let quickchartButtonEl =\n",
              "        document.querySelector('#df-a8175a15-c466-46b7-93f6-0cdd02185258 button');\n",
              "      quickchartButtonEl.style.display =\n",
              "        google.colab.kernel.accessAllowed ? 'block' : 'none';\n",
              "    })();\n",
              "  </script>\n",
              "</div>\n",
              "    </div>\n",
              "  </div>\n"
            ],
            "application/vnd.google.colaboratory.intrinsic+json": {
              "type": "dataframe",
              "variable_name": "data",
              "repr_error": "'str' object has no attribute 'empty'"
            }
          },
          "metadata": {},
          "execution_count": 23
        }
      ]
    },
    {
      "cell_type": "code",
      "source": [
        "# Extract hour of departure and arrival from 'Departure_Time' and 'Arrival_Time'\n",
        "# Convert 'Departure_Time' and 'Arrival_Time' to datetime objects\n",
        "data['Departure_Time'] = pd.to_datetime(data['Departure_Time'])\n",
        "data['Arrival_Time'] = pd.to_datetime(data['Arrival_Time'])\n",
        "\n",
        "# Extract hour and minute features from 'Departure_Time' and 'Arrival_Time'\n",
        "data['Departure_Hour'] = data['Departure_Time'].dt.hour\n",
        "data['Departure_Minute'] = data['Departure_Time'].dt.minute\n",
        "data['Arrival_Hour'] = data['Arrival_Time'].dt.hour\n",
        "data['Arrival_Minute'] = data['Arrival_Time'].dt.minute"
      ],
      "metadata": {
        "id": "DzkKRzLwHSho"
      },
      "execution_count": null,
      "outputs": []
    },
    {
      "cell_type": "code",
      "source": [
        "# Drop the original 'Departure_Time' and 'Arrival_Time' columns\n",
        "data.drop(['Departure_Time', 'Arrival_Time'], axis=1, inplace=True)"
      ],
      "metadata": {
        "id": "pF-RxxXhHZwI"
      },
      "execution_count": null,
      "outputs": []
    },
    {
      "cell_type": "code",
      "source": [
        "# Convert categorical variables to numerical using label encoding\n",
        "label_encoders = {}\n",
        "categorical_columns = ['Aircraft_Type', 'Day_of_Week', 'Month_of_Travel', 'Demand','Holiday_Season', 'Weather_Conditions', 'Promotion_Type']"
      ],
      "metadata": {
        "id": "eTSXT7RjHbb3"
      },
      "execution_count": null,
      "outputs": []
    },
    {
      "cell_type": "code",
      "source": [
        "data = pd.get_dummies(data, columns=['Airline'], drop_first=True)"
      ],
      "metadata": {
        "id": "lroO4afRHjQ6"
      },
      "execution_count": null,
      "outputs": []
    },
    {
      "cell_type": "code",
      "source": [
        "for column in categorical_columns:\n",
        "    le = LabelEncoder()\n",
        "    data[column] = le.fit_transform(data[column])\n",
        "    label_encoders[column] = le"
      ],
      "metadata": {
        "id": "K2ayIzO1HltE"
      },
      "execution_count": null,
      "outputs": []
    },
    {
      "cell_type": "code",
      "source": [
        "# Scaling/Normalizing numerical features\n",
        "scaler = StandardScaler()\n",
        "numeric_columns = ['Distance', 'Duration', 'Number_of_Stops', 'Fuel_Price', 'Passenger_Count']\n",
        "data[numeric_columns] = scaler.fit_transform(data[numeric_columns])\n",
        "data.info()"
      ],
      "metadata": {
        "colab": {
          "base_uri": "https://localhost:8080/"
        },
        "id": "K8cBrt7wHngE",
        "outputId": "db76b29a-7c0e-4338-cdf7-fb3ac346e980"
      },
      "execution_count": null,
      "outputs": [
        {
          "output_type": "stream",
          "name": "stdout",
          "text": [
            "<class 'pandas.core.frame.DataFrame'>\n",
            "RangeIndex: 45000 entries, 0 to 44999\n",
            "Data columns (total 24 columns):\n",
            " #   Column                  Non-Null Count  Dtype  \n",
            "---  ------                  --------------  -----  \n",
            " 0   Flight_ID               45000 non-null  int64  \n",
            " 1   Departure_City          45000 non-null  int64  \n",
            " 2   Arrival_City            45000 non-null  int64  \n",
            " 3   Distance                45000 non-null  float64\n",
            " 4   Duration                45000 non-null  float64\n",
            " 5   Aircraft_Type           45000 non-null  int64  \n",
            " 6   Number_of_Stops         45000 non-null  float64\n",
            " 7   Day_of_Week             45000 non-null  int64  \n",
            " 8   Month_of_Travel         45000 non-null  int64  \n",
            " 9   Holiday_Season          45000 non-null  int64  \n",
            " 10  Demand                  45000 non-null  int64  \n",
            " 11  Weather_Conditions      45000 non-null  int64  \n",
            " 12  Passenger_Count         45000 non-null  float64\n",
            " 13  Promotion_Type          45000 non-null  int64  \n",
            " 14  Fuel_Price              45000 non-null  float64\n",
            " 15  Flight_Price            45000 non-null  float64\n",
            " 16  Promotion_Type_Missing  45000 non-null  int64  \n",
            " 17  Departure_Hour          45000 non-null  int64  \n",
            " 18  Departure_Minute        45000 non-null  int64  \n",
            " 19  Arrival_Hour            45000 non-null  int64  \n",
            " 20  Arrival_Minute          45000 non-null  int64  \n",
            " 21  Airline_Airline B       45000 non-null  uint8  \n",
            " 22  Airline_Airline C       45000 non-null  uint8  \n",
            " 23  Airline_Missing         45000 non-null  uint8  \n",
            "dtypes: float64(6), int64(15), uint8(3)\n",
            "memory usage: 7.3 MB\n"
          ]
        }
      ]
    },
    {
      "cell_type": "code",
      "source": [
        "# Feature Selection using SelectKBest and f_regression\n",
        "X = data.drop(['Flight_Price'], axis=1)\n",
        "y = data['Flight_Price']\n"
      ],
      "metadata": {
        "id": "86fYeuYDHp8q"
      },
      "execution_count": null,
      "outputs": []
    },
    {
      "cell_type": "code",
      "source": [
        "selector = SelectKBest(score_func=f_regression, k=10)  # You can adjust 'k' as needed\n",
        "X_selected = selector.fit_transform(X, y)\n",
        "selected_feature_indices = selector.get_support(indices=True)\n"
      ],
      "metadata": {
        "id": "L-3g_n9NH24Z"
      },
      "execution_count": null,
      "outputs": []
    },
    {
      "cell_type": "code",
      "source": [
        "# Get the names of selected features\n",
        "selected_features = X.columns[selected_feature_indices]"
      ],
      "metadata": {
        "id": "Ox0jbntAJKit"
      },
      "execution_count": null,
      "outputs": []
    },
    {
      "cell_type": "code",
      "source": [
        "# Split the data into training and testing sets\n",
        "X_train, X_test, y_train, y_test = train_test_split(X[selected_features], y, test_size=0.3, random_state=42)\n"
      ],
      "metadata": {
        "id": "y8WPAKgmJNJ7"
      },
      "execution_count": null,
      "outputs": []
    },
    {
      "cell_type": "code",
      "source": [
        "# Initialize and train the XGBoost Regressor model\n",
        "xgb_regressor = XGBRegressor()\n",
        "param_grid = {\n",
        "    'n_estimators': [100, 200, 300],\n",
        "    'learning_rate': [0.01, 0.1, 0.2],\n",
        "    'max_depth': [3, 4, 5],\n",
        "    'min_child_weight': [1, 2, 3],\n",
        "    'gamma': [0, 0.1, 0.2],\n",
        "    'subsample': [0.8, 0.9, 1.0],\n",
        "    'colsample_bytree': [0.8, 0.9, 1.0],\n",
        "}\n"
      ],
      "metadata": {
        "id": "2UnHrphzJPkD"
      },
      "execution_count": null,
      "outputs": []
    },
    {
      "cell_type": "code",
      "source": [
        "scorer = make_scorer(mean_absolute_error, greater_is_better=False)\n",
        "random_search = RandomizedSearchCV(\n",
        "    xgb_regressor,\n",
        "    param_distributions=param_grid,\n",
        "    scoring=scorer,\n",
        "    cv=5,  # You can adjust the number of cross-validation folds\n",
        "    n_iter=50,  # Adjust the number of iterations as needed\n",
        "    verbose=0,  # Increase verbosity for progress updates\n",
        "    n_jobs=-1,  # Utilize all available CPU cores\n",
        "    random_state=42,  # Set a random seed for reproducibility\n",
        ")"
      ],
      "metadata": {
        "id": "oWaLyFYiJXLB"
      },
      "execution_count": null,
      "outputs": []
    },
    {
      "cell_type": "code",
      "source": [
        "# Fit the random search to the data\n",
        "random_search.fit(X_train, y_train)"
      ],
      "metadata": {
        "colab": {
          "base_uri": "https://localhost:8080/",
          "height": 116
        },
        "id": "oTTEnhjrJZD5",
        "outputId": "7078319d-b033-440c-de45-1ff2ea5bf8fc"
      },
      "execution_count": null,
      "outputs": [
        {
          "output_type": "execute_result",
          "data": {
            "text/plain": [
              "RandomizedSearchCV(cv=5,\n",
              "                   estimator=XGBRegressor(base_score=None, booster=None,\n",
              "                                          callbacks=None,\n",
              "                                          colsample_bylevel=None,\n",
              "                                          colsample_bynode=None,\n",
              "                                          colsample_bytree=None, device=None,\n",
              "                                          early_stopping_rounds=None,\n",
              "                                          enable_categorical=False,\n",
              "                                          eval_metric=None, feature_types=None,\n",
              "                                          gamma=None, grow_policy=None,\n",
              "                                          importance_type=None,\n",
              "                                          interaction_constraints=None,\n",
              "                                          learning_rate=...\n",
              "                                          num_parallel_tree=None,\n",
              "                                          random_state=None, ...),\n",
              "                   n_iter=50, n_jobs=-1,\n",
              "                   param_distributions={'colsample_bytree': [0.8, 0.9, 1.0],\n",
              "                                        'gamma': [0, 0.1, 0.2],\n",
              "                                        'learning_rate': [0.01, 0.1, 0.2],\n",
              "                                        'max_depth': [3, 4, 5],\n",
              "                                        'min_child_weight': [1, 2, 3],\n",
              "                                        'n_estimators': [100, 200, 300],\n",
              "                                        'subsample': [0.8, 0.9, 1.0]},\n",
              "                   random_state=42,\n",
              "                   scoring=make_scorer(mean_absolute_error, greater_is_better=False))"
            ],
            "text/html": [
              "<style>#sk-container-id-1 {color: black;background-color: white;}#sk-container-id-1 pre{padding: 0;}#sk-container-id-1 div.sk-toggleable {background-color: white;}#sk-container-id-1 label.sk-toggleable__label {cursor: pointer;display: block;width: 100%;margin-bottom: 0;padding: 0.3em;box-sizing: border-box;text-align: center;}#sk-container-id-1 label.sk-toggleable__label-arrow:before {content: \"▸\";float: left;margin-right: 0.25em;color: #696969;}#sk-container-id-1 label.sk-toggleable__label-arrow:hover:before {color: black;}#sk-container-id-1 div.sk-estimator:hover label.sk-toggleable__label-arrow:before {color: black;}#sk-container-id-1 div.sk-toggleable__content {max-height: 0;max-width: 0;overflow: hidden;text-align: left;background-color: #f0f8ff;}#sk-container-id-1 div.sk-toggleable__content pre {margin: 0.2em;color: black;border-radius: 0.25em;background-color: #f0f8ff;}#sk-container-id-1 input.sk-toggleable__control:checked~div.sk-toggleable__content {max-height: 200px;max-width: 100%;overflow: auto;}#sk-container-id-1 input.sk-toggleable__control:checked~label.sk-toggleable__label-arrow:before {content: \"▾\";}#sk-container-id-1 div.sk-estimator input.sk-toggleable__control:checked~label.sk-toggleable__label {background-color: #d4ebff;}#sk-container-id-1 div.sk-label input.sk-toggleable__control:checked~label.sk-toggleable__label {background-color: #d4ebff;}#sk-container-id-1 input.sk-hidden--visually {border: 0;clip: rect(1px 1px 1px 1px);clip: rect(1px, 1px, 1px, 1px);height: 1px;margin: -1px;overflow: hidden;padding: 0;position: absolute;width: 1px;}#sk-container-id-1 div.sk-estimator {font-family: monospace;background-color: #f0f8ff;border: 1px dotted black;border-radius: 0.25em;box-sizing: border-box;margin-bottom: 0.5em;}#sk-container-id-1 div.sk-estimator:hover {background-color: #d4ebff;}#sk-container-id-1 div.sk-parallel-item::after {content: \"\";width: 100%;border-bottom: 1px solid gray;flex-grow: 1;}#sk-container-id-1 div.sk-label:hover label.sk-toggleable__label {background-color: #d4ebff;}#sk-container-id-1 div.sk-serial::before {content: \"\";position: absolute;border-left: 1px solid gray;box-sizing: border-box;top: 0;bottom: 0;left: 50%;z-index: 0;}#sk-container-id-1 div.sk-serial {display: flex;flex-direction: column;align-items: center;background-color: white;padding-right: 0.2em;padding-left: 0.2em;position: relative;}#sk-container-id-1 div.sk-item {position: relative;z-index: 1;}#sk-container-id-1 div.sk-parallel {display: flex;align-items: stretch;justify-content: center;background-color: white;position: relative;}#sk-container-id-1 div.sk-item::before, #sk-container-id-1 div.sk-parallel-item::before {content: \"\";position: absolute;border-left: 1px solid gray;box-sizing: border-box;top: 0;bottom: 0;left: 50%;z-index: -1;}#sk-container-id-1 div.sk-parallel-item {display: flex;flex-direction: column;z-index: 1;position: relative;background-color: white;}#sk-container-id-1 div.sk-parallel-item:first-child::after {align-self: flex-end;width: 50%;}#sk-container-id-1 div.sk-parallel-item:last-child::after {align-self: flex-start;width: 50%;}#sk-container-id-1 div.sk-parallel-item:only-child::after {width: 0;}#sk-container-id-1 div.sk-dashed-wrapped {border: 1px dashed gray;margin: 0 0.4em 0.5em 0.4em;box-sizing: border-box;padding-bottom: 0.4em;background-color: white;}#sk-container-id-1 div.sk-label label {font-family: monospace;font-weight: bold;display: inline-block;line-height: 1.2em;}#sk-container-id-1 div.sk-label-container {text-align: center;}#sk-container-id-1 div.sk-container {/* jupyter's `normalize.less` sets `[hidden] { display: none; }` but bootstrap.min.css set `[hidden] { display: none !important; }` so we also need the `!important` here to be able to override the default hidden behavior on the sphinx rendered scikit-learn.org. See: https://github.com/scikit-learn/scikit-learn/issues/21755 */display: inline-block !important;position: relative;}#sk-container-id-1 div.sk-text-repr-fallback {display: none;}</style><div id=\"sk-container-id-1\" class=\"sk-top-container\"><div class=\"sk-text-repr-fallback\"><pre>RandomizedSearchCV(cv=5,\n",
              "                   estimator=XGBRegressor(base_score=None, booster=None,\n",
              "                                          callbacks=None,\n",
              "                                          colsample_bylevel=None,\n",
              "                                          colsample_bynode=None,\n",
              "                                          colsample_bytree=None, device=None,\n",
              "                                          early_stopping_rounds=None,\n",
              "                                          enable_categorical=False,\n",
              "                                          eval_metric=None, feature_types=None,\n",
              "                                          gamma=None, grow_policy=None,\n",
              "                                          importance_type=None,\n",
              "                                          interaction_constraints=None,\n",
              "                                          learning_rate=...\n",
              "                                          num_parallel_tree=None,\n",
              "                                          random_state=None, ...),\n",
              "                   n_iter=50, n_jobs=-1,\n",
              "                   param_distributions={&#x27;colsample_bytree&#x27;: [0.8, 0.9, 1.0],\n",
              "                                        &#x27;gamma&#x27;: [0, 0.1, 0.2],\n",
              "                                        &#x27;learning_rate&#x27;: [0.01, 0.1, 0.2],\n",
              "                                        &#x27;max_depth&#x27;: [3, 4, 5],\n",
              "                                        &#x27;min_child_weight&#x27;: [1, 2, 3],\n",
              "                                        &#x27;n_estimators&#x27;: [100, 200, 300],\n",
              "                                        &#x27;subsample&#x27;: [0.8, 0.9, 1.0]},\n",
              "                   random_state=42,\n",
              "                   scoring=make_scorer(mean_absolute_error, greater_is_better=False))</pre><b>In a Jupyter environment, please rerun this cell to show the HTML representation or trust the notebook. <br />On GitHub, the HTML representation is unable to render, please try loading this page with nbviewer.org.</b></div><div class=\"sk-container\" hidden><div class=\"sk-item sk-dashed-wrapped\"><div class=\"sk-label-container\"><div class=\"sk-label sk-toggleable\"><input class=\"sk-toggleable__control sk-hidden--visually\" id=\"sk-estimator-id-1\" type=\"checkbox\" ><label for=\"sk-estimator-id-1\" class=\"sk-toggleable__label sk-toggleable__label-arrow\">RandomizedSearchCV</label><div class=\"sk-toggleable__content\"><pre>RandomizedSearchCV(cv=5,\n",
              "                   estimator=XGBRegressor(base_score=None, booster=None,\n",
              "                                          callbacks=None,\n",
              "                                          colsample_bylevel=None,\n",
              "                                          colsample_bynode=None,\n",
              "                                          colsample_bytree=None, device=None,\n",
              "                                          early_stopping_rounds=None,\n",
              "                                          enable_categorical=False,\n",
              "                                          eval_metric=None, feature_types=None,\n",
              "                                          gamma=None, grow_policy=None,\n",
              "                                          importance_type=None,\n",
              "                                          interaction_constraints=None,\n",
              "                                          learning_rate=...\n",
              "                                          num_parallel_tree=None,\n",
              "                                          random_state=None, ...),\n",
              "                   n_iter=50, n_jobs=-1,\n",
              "                   param_distributions={&#x27;colsample_bytree&#x27;: [0.8, 0.9, 1.0],\n",
              "                                        &#x27;gamma&#x27;: [0, 0.1, 0.2],\n",
              "                                        &#x27;learning_rate&#x27;: [0.01, 0.1, 0.2],\n",
              "                                        &#x27;max_depth&#x27;: [3, 4, 5],\n",
              "                                        &#x27;min_child_weight&#x27;: [1, 2, 3],\n",
              "                                        &#x27;n_estimators&#x27;: [100, 200, 300],\n",
              "                                        &#x27;subsample&#x27;: [0.8, 0.9, 1.0]},\n",
              "                   random_state=42,\n",
              "                   scoring=make_scorer(mean_absolute_error, greater_is_better=False))</pre></div></div></div><div class=\"sk-parallel\"><div class=\"sk-parallel-item\"><div class=\"sk-item\"><div class=\"sk-label-container\"><div class=\"sk-label sk-toggleable\"><input class=\"sk-toggleable__control sk-hidden--visually\" id=\"sk-estimator-id-2\" type=\"checkbox\" ><label for=\"sk-estimator-id-2\" class=\"sk-toggleable__label sk-toggleable__label-arrow\">estimator: XGBRegressor</label><div class=\"sk-toggleable__content\"><pre>XGBRegressor(base_score=None, booster=None, callbacks=None,\n",
              "             colsample_bylevel=None, colsample_bynode=None,\n",
              "             colsample_bytree=None, device=None, early_stopping_rounds=None,\n",
              "             enable_categorical=False, eval_metric=None, feature_types=None,\n",
              "             gamma=None, grow_policy=None, importance_type=None,\n",
              "             interaction_constraints=None, learning_rate=None, max_bin=None,\n",
              "             max_cat_threshold=None, max_cat_to_onehot=None,\n",
              "             max_delta_step=None, max_depth=None, max_leaves=None,\n",
              "             min_child_weight=None, missing=nan, monotone_constraints=None,\n",
              "             multi_strategy=None, n_estimators=None, n_jobs=None,\n",
              "             num_parallel_tree=None, random_state=None, ...)</pre></div></div></div><div class=\"sk-serial\"><div class=\"sk-item\"><div class=\"sk-estimator sk-toggleable\"><input class=\"sk-toggleable__control sk-hidden--visually\" id=\"sk-estimator-id-3\" type=\"checkbox\" ><label for=\"sk-estimator-id-3\" class=\"sk-toggleable__label sk-toggleable__label-arrow\">XGBRegressor</label><div class=\"sk-toggleable__content\"><pre>XGBRegressor(base_score=None, booster=None, callbacks=None,\n",
              "             colsample_bylevel=None, colsample_bynode=None,\n",
              "             colsample_bytree=None, device=None, early_stopping_rounds=None,\n",
              "             enable_categorical=False, eval_metric=None, feature_types=None,\n",
              "             gamma=None, grow_policy=None, importance_type=None,\n",
              "             interaction_constraints=None, learning_rate=None, max_bin=None,\n",
              "             max_cat_threshold=None, max_cat_to_onehot=None,\n",
              "             max_delta_step=None, max_depth=None, max_leaves=None,\n",
              "             min_child_weight=None, missing=nan, monotone_constraints=None,\n",
              "             multi_strategy=None, n_estimators=None, n_jobs=None,\n",
              "             num_parallel_tree=None, random_state=None, ...)</pre></div></div></div></div></div></div></div></div></div></div>"
            ]
          },
          "metadata": {},
          "execution_count": 36
        }
      ]
    },
    {
      "cell_type": "code",
      "source": [
        "best_xgb_model = random_search.best_estimator_\n",
        "best_hyperparameters = random_search.best_params_\n",
        "\n",
        "print(best_xgb_model)\n",
        "print(best_hyperparameters)\n",
        "\n",
        "y_pred = best_xgb_model.predict(X_test)\n",
        "\n",
        "mae = mean_absolute_error(y_test, y_pred)\n",
        "mse = mean_squared_error(y_test, y_pred)\n",
        "rmse = np.sqrt(mse)\n",
        "\n",
        "print(f'Best Model MAE: {mae}')\n",
        "print(f'Best Model RMSE: {rmse}')\n"
      ],
      "metadata": {
        "colab": {
          "base_uri": "https://localhost:8080/"
        },
        "id": "ktDMcvZtJfvr",
        "outputId": "d200891a-40ee-41e7-c73c-7bcc85159c07"
      },
      "execution_count": null,
      "outputs": [
        {
          "output_type": "stream",
          "name": "stdout",
          "text": [
            "XGBRegressor(base_score=None, booster=None, callbacks=None,\n",
            "             colsample_bylevel=None, colsample_bynode=None,\n",
            "             colsample_bytree=0.8, device=None, early_stopping_rounds=None,\n",
            "             enable_categorical=False, eval_metric=None, feature_types=None,\n",
            "             gamma=0.1, grow_policy=None, importance_type=None,\n",
            "             interaction_constraints=None, learning_rate=0.1, max_bin=None,\n",
            "             max_cat_threshold=None, max_cat_to_onehot=None,\n",
            "             max_delta_step=None, max_depth=5, max_leaves=None,\n",
            "             min_child_weight=1, missing=nan, monotone_constraints=None,\n",
            "             multi_strategy=None, n_estimators=200, n_jobs=None,\n",
            "             num_parallel_tree=None, random_state=None, ...)\n",
            "{'subsample': 1.0, 'n_estimators': 200, 'min_child_weight': 1, 'max_depth': 5, 'learning_rate': 0.1, 'gamma': 0.1, 'colsample_bytree': 0.8}\n",
            "Best Model MAE: 9.889637360568576\n",
            "Best Model RMSE: 13.27032746626601\n"
          ]
        }
      ]
    },
    {
      "cell_type": "code",
      "source": [
        "test = pd.read_csv(\"test.csv\")\n"
      ],
      "metadata": {
        "id": "n3Cs9WyHJk8f"
      },
      "execution_count": null,
      "outputs": []
    },
    {
      "cell_type": "code",
      "source": [
        "# Handle missing values\n",
        "categorical_columns = ['Airline', 'Departure_City', 'Arrival_City', 'Demand', 'Aircraft_Type', 'Day_of_Week', 'Month_of_Travel','Holiday_Season','Weather_Conditions']\n",
        "for column in categorical_columns:\n",
        "    test[column].fillna('Missing', inplace=True)"
      ],
      "metadata": {
        "id": "rTgTGxraOLfA"
      },
      "execution_count": null,
      "outputs": []
    },
    {
      "cell_type": "code",
      "source": [
        "numerical_columns = ['Distance', 'Fuel_Price']\n",
        "\n",
        "for column in numerical_columns:\n",
        "    test[column].fillna(test[column].median(), inplace=True)\n"
      ],
      "metadata": {
        "id": "3-OYzv7EOR_4"
      },
      "execution_count": null,
      "outputs": []
    },
    {
      "cell_type": "code",
      "source": [
        "data['Promotion_Type_Missing'] = test['Promotion_Type'].isnull().astype(int)\n",
        "\n",
        "data['Fuel_Price'].fillna(test['Fuel_Price'].median(), inplace=True)\n"
      ],
      "metadata": {
        "id": "_V_YILy4OYLm"
      },
      "execution_count": null,
      "outputs": []
    },
    {
      "cell_type": "code",
      "source": [
        "unique_cities = set(test['Departure_City'].unique()) | set(test['Arrival_City'].unique())\n",
        "city_mapping = {city: label for label, city in enumerate(unique_cities)}\n",
        "test['Departure_City'] = test['Departure_City'].map(city_mapping)\n",
        "test['Arrival_City'] = test['Arrival_City'].map(city_mapping)\n",
        "test['Flight_ID'] = test['Flight_ID'].str.extract('(\\d+)').astype(int)\n"
      ],
      "metadata": {
        "id": "vZsnYnAsOcWY"
      },
      "execution_count": null,
      "outputs": []
    },
    {
      "cell_type": "code",
      "source": [
        "# Extract hour of departure and arrival from 'Departure_Time' and 'Arrival_Time'\n",
        "# Convert 'Departure_Time' and 'Arrival_Time' to datetime objects\n",
        "test['Departure_Time'] = pd.to_datetime(test['Departure_Time'])\n",
        "test['Arrival_Time'] = pd.to_datetime(test['Arrival_Time'])"
      ],
      "metadata": {
        "id": "A4PNqJHNOfgg"
      },
      "execution_count": null,
      "outputs": []
    },
    {
      "cell_type": "code",
      "source": [
        "# Extract hour and minute features from 'Departure_Time' and 'Arrival_Time'\n",
        "test['Departure_Hour'] = test['Departure_Time'].dt.hour\n",
        "test['Departure_Minute'] = test['Departure_Time'].dt.minute\n",
        "test['Arrival_Hour'] = test['Arrival_Time'].dt.hour\n",
        "test['Arrival_Minute'] = test['Arrival_Time'].dt.minute"
      ],
      "metadata": {
        "id": "EDjAB7p7Ojgv"
      },
      "execution_count": null,
      "outputs": []
    },
    {
      "cell_type": "code",
      "source": [
        "# Drop the original 'Departure_Time' and 'Arrival_Time' columns\n",
        "test.drop(['Departure_Time', 'Arrival_Time'], axis=1, inplace=True)\n"
      ],
      "metadata": {
        "id": "n68Fm6QGOnIo"
      },
      "execution_count": null,
      "outputs": []
    },
    {
      "cell_type": "code",
      "source": [
        "# Convert categorical variables to numerical using label encoding\n",
        "label_encoders = {}\n",
        "categorical_columns = ['Aircraft_Type', 'Day_of_Week', 'Month_of_Travel', 'Demand','Holiday_Season', 'Weather_Conditions', 'Promotion_Type']\n",
        "\n",
        "test = pd.get_dummies(test, columns=['Airline'], drop_first=True)\n"
      ],
      "metadata": {
        "id": "F5h-8KHBOqCm"
      },
      "execution_count": null,
      "outputs": []
    },
    {
      "cell_type": "code",
      "source": [
        "for column in categorical_columns:\n",
        "    le = LabelEncoder()\n",
        "    test[column] = le.fit_transform(test[column])\n",
        "    label_encoders[column] = le"
      ],
      "metadata": {
        "id": "HXzyz4zpOvvD"
      },
      "execution_count": null,
      "outputs": []
    },
    {
      "cell_type": "code",
      "source": [
        "# Scaling/Normalizing numerical features\n",
        "scaler = StandardScaler()\n",
        "numeric_columns = ['Distance', 'Duration', 'Number_of_Stops', 'Fuel_Price', 'Passenger_Count']\n",
        "test[numeric_columns] = scaler.fit_transform(test[numeric_columns])\n",
        "test = test[['Distance', 'Duration', 'Aircraft_Type', 'Number_of_Stops',\n",
        "       'Day_of_Week', 'Month_of_Travel', 'Holiday_Season', 'Demand',\n",
        "       'Weather_Conditions', 'Fuel_Price']]\n",
        "test.head()"
      ],
      "metadata": {
        "colab": {
          "base_uri": "https://localhost:8080/",
          "height": 226
        },
        "id": "1EhrMYL8OxVi",
        "outputId": "ecfc105a-6e14-48f6-bd38-31aaf4457c87"
      },
      "execution_count": null,
      "outputs": [
        {
          "output_type": "execute_result",
          "data": {
            "text/plain": [
              "   Distance  Duration  Aircraft_Type  Number_of_Stops  Day_of_Week  \\\n",
              "0 -0.904921 -0.695995              2         0.448898            3   \n",
              "1  1.262554  1.195769              1         0.448898            5   \n",
              "2  0.346046  0.530037              3         0.448898            4   \n",
              "3  0.908962  0.716803              1        -0.901578            5   \n",
              "4 -1.657644 -1.798520              0         0.448898            3   \n",
              "\n",
              "   Month_of_Travel  Holiday_Season  Demand  Weather_Conditions  Fuel_Price  \n",
              "0                1               3       2                   0    0.486062  \n",
              "1                0               1       0                   0    0.978645  \n",
              "2                4               1       1                   3   -1.090205  \n",
              "3                7               1       1                   3    0.141253  \n",
              "4                1               3       0                   1    1.274195  "
            ],
            "text/html": [
              "\n",
              "  <div id=\"df-9a290be4-988e-49ec-b193-e211d8a67f8b\" class=\"colab-df-container\">\n",
              "    <div>\n",
              "<style scoped>\n",
              "    .dataframe tbody tr th:only-of-type {\n",
              "        vertical-align: middle;\n",
              "    }\n",
              "\n",
              "    .dataframe tbody tr th {\n",
              "        vertical-align: top;\n",
              "    }\n",
              "\n",
              "    .dataframe thead th {\n",
              "        text-align: right;\n",
              "    }\n",
              "</style>\n",
              "<table border=\"1\" class=\"dataframe\">\n",
              "  <thead>\n",
              "    <tr style=\"text-align: right;\">\n",
              "      <th></th>\n",
              "      <th>Distance</th>\n",
              "      <th>Duration</th>\n",
              "      <th>Aircraft_Type</th>\n",
              "      <th>Number_of_Stops</th>\n",
              "      <th>Day_of_Week</th>\n",
              "      <th>Month_of_Travel</th>\n",
              "      <th>Holiday_Season</th>\n",
              "      <th>Demand</th>\n",
              "      <th>Weather_Conditions</th>\n",
              "      <th>Fuel_Price</th>\n",
              "    </tr>\n",
              "  </thead>\n",
              "  <tbody>\n",
              "    <tr>\n",
              "      <th>0</th>\n",
              "      <td>-0.904921</td>\n",
              "      <td>-0.695995</td>\n",
              "      <td>2</td>\n",
              "      <td>0.448898</td>\n",
              "      <td>3</td>\n",
              "      <td>1</td>\n",
              "      <td>3</td>\n",
              "      <td>2</td>\n",
              "      <td>0</td>\n",
              "      <td>0.486062</td>\n",
              "    </tr>\n",
              "    <tr>\n",
              "      <th>1</th>\n",
              "      <td>1.262554</td>\n",
              "      <td>1.195769</td>\n",
              "      <td>1</td>\n",
              "      <td>0.448898</td>\n",
              "      <td>5</td>\n",
              "      <td>0</td>\n",
              "      <td>1</td>\n",
              "      <td>0</td>\n",
              "      <td>0</td>\n",
              "      <td>0.978645</td>\n",
              "    </tr>\n",
              "    <tr>\n",
              "      <th>2</th>\n",
              "      <td>0.346046</td>\n",
              "      <td>0.530037</td>\n",
              "      <td>3</td>\n",
              "      <td>0.448898</td>\n",
              "      <td>4</td>\n",
              "      <td>4</td>\n",
              "      <td>1</td>\n",
              "      <td>1</td>\n",
              "      <td>3</td>\n",
              "      <td>-1.090205</td>\n",
              "    </tr>\n",
              "    <tr>\n",
              "      <th>3</th>\n",
              "      <td>0.908962</td>\n",
              "      <td>0.716803</td>\n",
              "      <td>1</td>\n",
              "      <td>-0.901578</td>\n",
              "      <td>5</td>\n",
              "      <td>7</td>\n",
              "      <td>1</td>\n",
              "      <td>1</td>\n",
              "      <td>3</td>\n",
              "      <td>0.141253</td>\n",
              "    </tr>\n",
              "    <tr>\n",
              "      <th>4</th>\n",
              "      <td>-1.657644</td>\n",
              "      <td>-1.798520</td>\n",
              "      <td>0</td>\n",
              "      <td>0.448898</td>\n",
              "      <td>3</td>\n",
              "      <td>1</td>\n",
              "      <td>3</td>\n",
              "      <td>0</td>\n",
              "      <td>1</td>\n",
              "      <td>1.274195</td>\n",
              "    </tr>\n",
              "  </tbody>\n",
              "</table>\n",
              "</div>\n",
              "    <div class=\"colab-df-buttons\">\n",
              "\n",
              "  <div class=\"colab-df-container\">\n",
              "    <button class=\"colab-df-convert\" onclick=\"convertToInteractive('df-9a290be4-988e-49ec-b193-e211d8a67f8b')\"\n",
              "            title=\"Convert this dataframe to an interactive table.\"\n",
              "            style=\"display:none;\">\n",
              "\n",
              "  <svg xmlns=\"http://www.w3.org/2000/svg\" height=\"24px\" viewBox=\"0 -960 960 960\">\n",
              "    <path d=\"M120-120v-720h720v720H120Zm60-500h600v-160H180v160Zm220 220h160v-160H400v160Zm0 220h160v-160H400v160ZM180-400h160v-160H180v160Zm440 0h160v-160H620v160ZM180-180h160v-160H180v160Zm440 0h160v-160H620v160Z\"/>\n",
              "  </svg>\n",
              "    </button>\n",
              "\n",
              "  <style>\n",
              "    .colab-df-container {\n",
              "      display:flex;\n",
              "      gap: 12px;\n",
              "    }\n",
              "\n",
              "    .colab-df-convert {\n",
              "      background-color: #E8F0FE;\n",
              "      border: none;\n",
              "      border-radius: 50%;\n",
              "      cursor: pointer;\n",
              "      display: none;\n",
              "      fill: #1967D2;\n",
              "      height: 32px;\n",
              "      padding: 0 0 0 0;\n",
              "      width: 32px;\n",
              "    }\n",
              "\n",
              "    .colab-df-convert:hover {\n",
              "      background-color: #E2EBFA;\n",
              "      box-shadow: 0px 1px 2px rgba(60, 64, 67, 0.3), 0px 1px 3px 1px rgba(60, 64, 67, 0.15);\n",
              "      fill: #174EA6;\n",
              "    }\n",
              "\n",
              "    .colab-df-buttons div {\n",
              "      margin-bottom: 4px;\n",
              "    }\n",
              "\n",
              "    [theme=dark] .colab-df-convert {\n",
              "      background-color: #3B4455;\n",
              "      fill: #D2E3FC;\n",
              "    }\n",
              "\n",
              "    [theme=dark] .colab-df-convert:hover {\n",
              "      background-color: #434B5C;\n",
              "      box-shadow: 0px 1px 3px 1px rgba(0, 0, 0, 0.15);\n",
              "      filter: drop-shadow(0px 1px 2px rgba(0, 0, 0, 0.3));\n",
              "      fill: #FFFFFF;\n",
              "    }\n",
              "  </style>\n",
              "\n",
              "    <script>\n",
              "      const buttonEl =\n",
              "        document.querySelector('#df-9a290be4-988e-49ec-b193-e211d8a67f8b button.colab-df-convert');\n",
              "      buttonEl.style.display =\n",
              "        google.colab.kernel.accessAllowed ? 'block' : 'none';\n",
              "\n",
              "      async function convertToInteractive(key) {\n",
              "        const element = document.querySelector('#df-9a290be4-988e-49ec-b193-e211d8a67f8b');\n",
              "        const dataTable =\n",
              "          await google.colab.kernel.invokeFunction('convertToInteractive',\n",
              "                                                    [key], {});\n",
              "        if (!dataTable) return;\n",
              "\n",
              "        const docLinkHtml = 'Like what you see? Visit the ' +\n",
              "          '<a target=\"_blank\" href=https://colab.research.google.com/notebooks/data_table.ipynb>data table notebook</a>'\n",
              "          + ' to learn more about interactive tables.';\n",
              "        element.innerHTML = '';\n",
              "        dataTable['output_type'] = 'display_data';\n",
              "        await google.colab.output.renderOutput(dataTable, element);\n",
              "        const docLink = document.createElement('div');\n",
              "        docLink.innerHTML = docLinkHtml;\n",
              "        element.appendChild(docLink);\n",
              "      }\n",
              "    </script>\n",
              "  </div>\n",
              "\n",
              "\n",
              "<div id=\"df-672d9c73-cd6f-450e-b0fe-5e442c03c3ac\">\n",
              "  <button class=\"colab-df-quickchart\" onclick=\"quickchart('df-672d9c73-cd6f-450e-b0fe-5e442c03c3ac')\"\n",
              "            title=\"Suggest charts\"\n",
              "            style=\"display:none;\">\n",
              "\n",
              "<svg xmlns=\"http://www.w3.org/2000/svg\" height=\"24px\"viewBox=\"0 0 24 24\"\n",
              "     width=\"24px\">\n",
              "    <g>\n",
              "        <path d=\"M19 3H5c-1.1 0-2 .9-2 2v14c0 1.1.9 2 2 2h14c1.1 0 2-.9 2-2V5c0-1.1-.9-2-2-2zM9 17H7v-7h2v7zm4 0h-2V7h2v10zm4 0h-2v-4h2v4z\"/>\n",
              "    </g>\n",
              "</svg>\n",
              "  </button>\n",
              "\n",
              "<style>\n",
              "  .colab-df-quickchart {\n",
              "      --bg-color: #E8F0FE;\n",
              "      --fill-color: #1967D2;\n",
              "      --hover-bg-color: #E2EBFA;\n",
              "      --hover-fill-color: #174EA6;\n",
              "      --disabled-fill-color: #AAA;\n",
              "      --disabled-bg-color: #DDD;\n",
              "  }\n",
              "\n",
              "  [theme=dark] .colab-df-quickchart {\n",
              "      --bg-color: #3B4455;\n",
              "      --fill-color: #D2E3FC;\n",
              "      --hover-bg-color: #434B5C;\n",
              "      --hover-fill-color: #FFFFFF;\n",
              "      --disabled-bg-color: #3B4455;\n",
              "      --disabled-fill-color: #666;\n",
              "  }\n",
              "\n",
              "  .colab-df-quickchart {\n",
              "    background-color: var(--bg-color);\n",
              "    border: none;\n",
              "    border-radius: 50%;\n",
              "    cursor: pointer;\n",
              "    display: none;\n",
              "    fill: var(--fill-color);\n",
              "    height: 32px;\n",
              "    padding: 0;\n",
              "    width: 32px;\n",
              "  }\n",
              "\n",
              "  .colab-df-quickchart:hover {\n",
              "    background-color: var(--hover-bg-color);\n",
              "    box-shadow: 0 1px 2px rgba(60, 64, 67, 0.3), 0 1px 3px 1px rgba(60, 64, 67, 0.15);\n",
              "    fill: var(--button-hover-fill-color);\n",
              "  }\n",
              "\n",
              "  .colab-df-quickchart-complete:disabled,\n",
              "  .colab-df-quickchart-complete:disabled:hover {\n",
              "    background-color: var(--disabled-bg-color);\n",
              "    fill: var(--disabled-fill-color);\n",
              "    box-shadow: none;\n",
              "  }\n",
              "\n",
              "  .colab-df-spinner {\n",
              "    border: 2px solid var(--fill-color);\n",
              "    border-color: transparent;\n",
              "    border-bottom-color: var(--fill-color);\n",
              "    animation:\n",
              "      spin 1s steps(1) infinite;\n",
              "  }\n",
              "\n",
              "  @keyframes spin {\n",
              "    0% {\n",
              "      border-color: transparent;\n",
              "      border-bottom-color: var(--fill-color);\n",
              "      border-left-color: var(--fill-color);\n",
              "    }\n",
              "    20% {\n",
              "      border-color: transparent;\n",
              "      border-left-color: var(--fill-color);\n",
              "      border-top-color: var(--fill-color);\n",
              "    }\n",
              "    30% {\n",
              "      border-color: transparent;\n",
              "      border-left-color: var(--fill-color);\n",
              "      border-top-color: var(--fill-color);\n",
              "      border-right-color: var(--fill-color);\n",
              "    }\n",
              "    40% {\n",
              "      border-color: transparent;\n",
              "      border-right-color: var(--fill-color);\n",
              "      border-top-color: var(--fill-color);\n",
              "    }\n",
              "    60% {\n",
              "      border-color: transparent;\n",
              "      border-right-color: var(--fill-color);\n",
              "    }\n",
              "    80% {\n",
              "      border-color: transparent;\n",
              "      border-right-color: var(--fill-color);\n",
              "      border-bottom-color: var(--fill-color);\n",
              "    }\n",
              "    90% {\n",
              "      border-color: transparent;\n",
              "      border-bottom-color: var(--fill-color);\n",
              "    }\n",
              "  }\n",
              "</style>\n",
              "\n",
              "  <script>\n",
              "    async function quickchart(key) {\n",
              "      const quickchartButtonEl =\n",
              "        document.querySelector('#' + key + ' button');\n",
              "      quickchartButtonEl.disabled = true;  // To prevent multiple clicks.\n",
              "      quickchartButtonEl.classList.add('colab-df-spinner');\n",
              "      try {\n",
              "        const charts = await google.colab.kernel.invokeFunction(\n",
              "            'suggestCharts', [key], {});\n",
              "      } catch (error) {\n",
              "        console.error('Error during call to suggestCharts:', error);\n",
              "      }\n",
              "      quickchartButtonEl.classList.remove('colab-df-spinner');\n",
              "      quickchartButtonEl.classList.add('colab-df-quickchart-complete');\n",
              "    }\n",
              "    (() => {\n",
              "      let quickchartButtonEl =\n",
              "        document.querySelector('#df-672d9c73-cd6f-450e-b0fe-5e442c03c3ac button');\n",
              "      quickchartButtonEl.style.display =\n",
              "        google.colab.kernel.accessAllowed ? 'block' : 'none';\n",
              "    })();\n",
              "  </script>\n",
              "</div>\n",
              "    </div>\n",
              "  </div>\n"
            ],
            "application/vnd.google.colaboratory.intrinsic+json": {
              "type": "dataframe",
              "variable_name": "test",
              "summary": "{\n  \"name\": \"test\",\n  \"rows\": 5000,\n  \"fields\": [\n    {\n      \"column\": \"Distance\",\n      \"properties\": {\n        \"dtype\": \"number\",\n        \"std\": 1.0001000150025003,\n        \"min\": -1.7070091496449211,\n        \"max\": 1.7370716894025393,\n        \"num_unique_values\": 3832,\n        \"samples\": [\n          -1.0147489009963817,\n          -0.9634703640594527,\n          0.5963155803802639\n        ],\n        \"semantic_type\": \"\",\n        \"description\": \"\"\n      }\n    },\n    {\n      \"column\": \"Duration\",\n      \"properties\": {\n        \"dtype\": \"number\",\n        \"std\": 1.0001000150025003,\n        \"min\": -1.9732373014750417,\n        \"max\": 2.0030825946590864,\n        \"num_unique_values\": 1234,\n        \"samples\": [\n          0.9698418943757486,\n          -1.3496780450358261,\n          -0.006163898311719495\n        ],\n        \"semantic_type\": \"\",\n        \"description\": \"\"\n      }\n    },\n    {\n      \"column\": \"Aircraft_Type\",\n      \"properties\": {\n        \"dtype\": \"number\",\n        \"std\": 1,\n        \"min\": 0,\n        \"max\": 5,\n        \"num_unique_values\": 6,\n        \"samples\": [\n          2,\n          1,\n          5\n        ],\n        \"semantic_type\": \"\",\n        \"description\": \"\"\n      }\n    },\n    {\n      \"column\": \"Number_of_Stops\",\n      \"properties\": {\n        \"dtype\": \"number\",\n        \"std\": 1.0001000150025003,\n        \"min\": -0.901577676193078,\n        \"max\": 3.1498498681137437,\n        \"num_unique_values\": 3,\n        \"samples\": [\n          0.4488981719091959,\n          -0.901577676193078,\n          3.1498498681137437\n        ],\n        \"semantic_type\": \"\",\n        \"description\": \"\"\n      }\n    },\n    {\n      \"column\": \"Day_of_Week\",\n      \"properties\": {\n        \"dtype\": \"number\",\n        \"std\": 2,\n        \"min\": 0,\n        \"max\": 7,\n        \"num_unique_values\": 8,\n        \"samples\": [\n          5,\n          7,\n          3\n        ],\n        \"semantic_type\": \"\",\n        \"description\": \"\"\n      }\n    },\n    {\n      \"column\": \"Month_of_Travel\",\n      \"properties\": {\n        \"dtype\": \"number\",\n        \"std\": 3,\n        \"min\": 0,\n        \"max\": 12,\n        \"num_unique_values\": 13,\n        \"samples\": [\n          10,\n          2,\n          1\n        ],\n        \"semantic_type\": \"\",\n        \"description\": \"\"\n      }\n    },\n    {\n      \"column\": \"Holiday_Season\",\n      \"properties\": {\n        \"dtype\": \"number\",\n        \"std\": 1,\n        \"min\": 0,\n        \"max\": 4,\n        \"num_unique_values\": 5,\n        \"samples\": [\n          1,\n          4,\n          2\n        ],\n        \"semantic_type\": \"\",\n        \"description\": \"\"\n      }\n    },\n    {\n      \"column\": \"Demand\",\n      \"properties\": {\n        \"dtype\": \"number\",\n        \"std\": 0,\n        \"min\": 0,\n        \"max\": 3,\n        \"num_unique_values\": 4,\n        \"samples\": [\n          0,\n          3,\n          2\n        ],\n        \"semantic_type\": \"\",\n        \"description\": \"\"\n      }\n    },\n    {\n      \"column\": \"Weather_Conditions\",\n      \"properties\": {\n        \"dtype\": \"number\",\n        \"std\": 1,\n        \"min\": 0,\n        \"max\": 4,\n        \"num_unique_values\": 5,\n        \"samples\": [\n          3,\n          2,\n          1\n        ],\n        \"semantic_type\": \"\",\n        \"description\": \"\"\n      }\n    },\n    {\n      \"column\": \"Fuel_Price\",\n      \"properties\": {\n        \"dtype\": \"number\",\n        \"std\": 1.0001000150025003,\n        \"min\": -1.7305633657193762,\n        \"max\": 1.7175197598386938,\n        \"num_unique_values\": 71,\n        \"samples\": [\n          -0.9424300798775315,\n          0.48606150071081156,\n          -1.5335300442589148\n        ],\n        \"semantic_type\": \"\",\n        \"description\": \"\"\n      }\n    }\n  ]\n}"
            }
          },
          "metadata": {},
          "execution_count": 49
        }
      ]
    },
    {
      "cell_type": "code",
      "source": [
        "y_pred = best_xgb_model.predict(test)"
      ],
      "metadata": {
        "id": "dSgKXwRLO1pR"
      },
      "execution_count": null,
      "outputs": []
    },
    {
      "cell_type": "code",
      "source": [
        "# Create a DataFrame with 'Flight_ID' and 'Predicted_Price' columns\n",
        "submission_df = pd.DataFrame({'Flight_ID': test.index, 'Flight_Price': y_pred})"
      ],
      "metadata": {
        "id": "rI9BNlebO4tl"
      },
      "execution_count": null,
      "outputs": []
    },
    {
      "cell_type": "code",
      "source": [
        "# Save the DataFrame to a CSV file\n",
        "submission_df.to_csv('submission_file.csv', index=False)"
      ],
      "metadata": {
        "id": "Juu_sHzzO7Vj"
      },
      "execution_count": null,
      "outputs": []
    }
  ]
}